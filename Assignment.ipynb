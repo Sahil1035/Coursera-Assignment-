{
  "metadata": {
    "kernelspec": {
      "name": "python",
      "display_name": "Python (Pyodide)",
      "language": "python"
    },
    "language_info": {
      "codemirror_mode": {
        "name": "python",
        "version": 3
      },
      "file_extension": ".py",
      "mimetype": "text/x-python",
      "name": "python",
      "nbconvert_exporter": "python",
      "pygments_lexer": "ipython3",
      "version": "3.8"
    }
  },
  "nbformat_minor": 4,
  "nbformat": 4,
  "cells": [
    {
      "cell_type": "code",
      "source": "#Data Science Tools & Ecosystem",
      "metadata": {
        "trusted": true
      },
      "outputs": [],
      "execution_count": null
    },
    {
      "cell_type": "code",
      "source": "## Introduction\n\nThis notebook provides an overview of data science languages, libraries, tools, and examples of basic arithmetic operations. It is intended for beginners who want to understand the essentials of data science.\n",
      "metadata": {
        "trusted": true
      },
      "outputs": [],
      "execution_count": null
    },
    {
      "cell_type": "code",
      "source": "## Data Science Languages\n\n- Python\n- R\n- SQL\n- Julia\n- Scala\n",
      "metadata": {
        "trusted": true
      },
      "outputs": [],
      "execution_count": null
    },
    {
      "cell_type": "code",
      "source": "## Data Science Libraries\n\n- Pandas\n- NumPy\n- Matplotlib\n- Scikit-Learn\n- TensorFlow\n- Keras\n",
      "metadata": {
        "trusted": true
      },
      "outputs": [],
      "execution_count": null
    },
    {
      "cell_type": "code",
      "source": "## Data Science Tools\n\n| Tool          | Description                                                                 |\n|---------------|-----------------------------------------------------------------------------|\n| Jupyter Notebook | An open-source web application to create and share documents with live code, equations, visualizations, and narrative text. |\n| RStudio       | An integrated development environment for R.                                 |\n| Apache Spark  | A unified analytics engine for big data processing, with built-in modules for streaming, SQL, machine learning, and graph processing. |\n| TensorFlow    | An open-source library for numerical computation and machine learning.        |\n| RapidMiner    | A data science platform for building and deploying predictive models.         |\n",
      "metadata": {
        "trusted": true
      },
      "outputs": [],
      "execution_count": null
    },
    {
      "cell_type": "code",
      "source": "## Arithmetic Expression Examples\n\nArithmetic expressions can be used to perform basic mathematical operations like addition, subtraction, multiplication, and division.\n",
      "metadata": {
        "trusted": true
      },
      "outputs": [],
      "execution_count": null
    },
    {
      "cell_type": "code",
      "source": "# Multiplying and adding numbers\nresult = (5 * 4) + 3\nresult\n",
      "metadata": {
        "trusted": true
      },
      "outputs": [],
      "execution_count": null
    },
    {
      "cell_type": "code",
      "source": "# Convert minutes to hours\nminutes = 150\nhours = minutes / 60\nhours\n",
      "metadata": {
        "trusted": true
      },
      "outputs": [],
      "execution_count": null
    },
    {
      "cell_type": "code",
      "source": "## Objectives\n\n- Understand key programming languages used in data science.\n- Learn about popular data science libraries.\n- Explore tools commonly used in data science.\n- Practice writing arithmetic expressions in Python.\n",
      "metadata": {
        "trusted": true
      },
      "outputs": [],
      "execution_count": null
    },
    {
      "cell_type": "code",
      "source": "## Author\n\nSahil Neharkar",
      "metadata": {
        "trusted": true
      },
      "outputs": [],
      "execution_count": null
    },
    {
      "cell_type": "code",
      "source": "",
      "metadata": {
        "trusted": true
      },
      "outputs": [],
      "execution_count": null
    }
  ]
}